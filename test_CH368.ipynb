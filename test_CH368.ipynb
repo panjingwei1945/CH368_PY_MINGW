{
 "metadata": {
  "name": "",
  "signature": "sha256:ae6f2938eb5a4deab355edc004e1855e92d23fb77e571bc402be5a07b3e3b6d9"
 },
 "nbformat": 3,
 "nbformat_minor": 0,
 "worksheets": [
  {
   "cells": [
    {
     "cell_type": "code",
     "collapsed": false,
     "input": [
      "cd 'E:\\\\_pan_file\\\\_my_nut\\\\CH368_PY_LIB\\\\CH368_PY_mingw'"
     ],
     "language": "python",
     "metadata": {},
     "outputs": [
      {
       "output_type": "stream",
       "stream": "stdout",
       "text": [
        "E:\\_pan_file\\_my_nut\\CH368_PY_LIB\\CH368_PY_mingw\n"
       ]
      }
     ],
     "prompt_number": 1
    },
    {
     "cell_type": "code",
     "collapsed": false,
     "input": [
      "pwd"
     ],
     "language": "python",
     "metadata": {},
     "outputs": [
      {
       "metadata": {},
       "output_type": "pyout",
       "prompt_number": 2,
       "text": [
        "u'E:\\\\_pan_file\\\\_my_nut\\\\CH368_PY_LIB\\\\CH368_PY_mingw'"
       ]
      }
     ],
     "prompt_number": 2
    },
    {
     "cell_type": "code",
     "collapsed": false,
     "input": [
      "from time import sleep\n",
      "import ctypes"
     ],
     "language": "python",
     "metadata": {},
     "outputs": [],
     "prompt_number": 3
    },
    {
     "cell_type": "code",
     "collapsed": false,
     "input": [
      "CH368 = ctypes.CDLL(\"CH368_PY.dll\")"
     ],
     "language": "python",
     "metadata": {},
     "outputs": [],
     "prompt_number": 4
    },
    {
     "cell_type": "code",
     "collapsed": false,
     "input": [
      "dir(CH368.CH368_OpenDevice)"
     ],
     "language": "python",
     "metadata": {},
     "outputs": [
      {
       "metadata": {},
       "output_type": "pyout",
       "prompt_number": 6,
       "text": [
        "['__call__',\n",
        " '__class__',\n",
        " '__ctypes_from_outparam__',\n",
        " '__delattr__',\n",
        " '__dict__',\n",
        " '__doc__',\n",
        " '__format__',\n",
        " '__getattribute__',\n",
        " '__hash__',\n",
        " '__init__',\n",
        " '__module__',\n",
        " '__name__',\n",
        " '__new__',\n",
        " '__nonzero__',\n",
        " '__reduce__',\n",
        " '__reduce_ex__',\n",
        " '__repr__',\n",
        " '__setattr__',\n",
        " '__setstate__',\n",
        " '__sizeof__',\n",
        " '__str__',\n",
        " '__subclasshook__',\n",
        " '__weakref__',\n",
        " '_b_base_',\n",
        " '_b_needsfree_',\n",
        " '_flags_',\n",
        " '_objects',\n",
        " '_restype_',\n",
        " 'argtypes',\n",
        " 'errcheck',\n",
        " 'restype']"
       ]
      }
     ],
     "prompt_number": 6
    },
    {
     "cell_type": "code",
     "collapsed": false,
     "input": [],
     "language": "python",
     "metadata": {},
     "outputs": []
    }
   ],
   "metadata": {}
  }
 ]
}